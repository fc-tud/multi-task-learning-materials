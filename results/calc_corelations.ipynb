{
 "cells": [
  {
   "cell_type": "code",
   "execution_count": null,
   "id": "1c0cec7c-8122-4f54-a524-feb65e2a9eda",
   "metadata": {},
   "outputs": [],
   "source": [
    "import sys \n",
    "sys.path.append('..')\n",
    "import os\n",
    "import numpy as np\n",
    "import pandas as pd\n",
    "from numpy import array, random, arange\n",
    "from scipy import stats\n",
    "from icecream import ic\n",
    "from src.models.base_model import BaseModel\n",
    "import config"
   ]
  },
  {
   "cell_type": "code",
   "execution_count": null,
   "id": "0b864472-b8e5-4ff5-821b-df7cf0d03ea2",
   "metadata": {},
   "outputs": [],
   "source": [
    "def xicor(X, Y, ties=True):\n",
    "    random.seed(42)\n",
    "    n = len(X)\n",
    "    order = array([i[0] for i in sorted(enumerate(X), key=lambda x: x[1])])\n",
    "    if ties:\n",
    "        l = array([sum(y >= Y[order]) for y in Y[order]])\n",
    "        r = l.copy()\n",
    "        for j in range(n):\n",
    "            if sum([r[j] == r[i] for i in range(n)]) > 1:\n",
    "                tie_index = array([r[j] == r[i] for i in range(n)])\n",
    "                r[tie_index] = random.choice(r[tie_index] - arange(0, sum([r[j] == r[i] for i in range(n)])), sum(tie_index), replace=False)\n",
    "        return 1 - n*sum( abs(r[1:] - r[:n-1]) ) / (2*sum(l*(n - l)))\n",
    "    else:\n",
    "        r = array([sum(y >= Y[order]) for y in Y[order]])\n",
    "        return 1 - 3 * sum( abs(r[1:] - r[:n-1]) ) / (n**2 - 1)"
   ]
  },
  {
   "cell_type": "code",
   "execution_count": null,
   "id": "748645db-7626-4c27-8a72-4424506c37c9",
   "metadata": {},
   "outputs": [],
   "source": [
    "# Initialize a list to store results\n",
    "correlation_results = []\n",
    "\n",
    "# Iterate over each dataset in the data folder\n",
    "for dataset in os.listdir(os.path.join('..', config.DATA_FOLDER)):\n",
    "    path = os.path.join('..', config.DATA_FOLDER, dataset)\n",
    "    name = os.path.basename(path)\n",
    "    \n",
    "    # Read data using BaseModel\n",
    "    model = BaseModel(path, name)\n",
    "    model.read_data()\n",
    "    y_data = model.y_data.dropna(ignore_index=True)\n",
    "    \n",
    "    # Calculate correlations for all pairs of y columns\n",
    "    for i in range(y_data.shape[1]):\n",
    "        for j in range(i + 1, y_data.shape[1]):\n",
    "            x = y_data.iloc[:, i]\n",
    "            y = y_data.iloc[:, j]\n",
    "            \n",
    "            # Get column names for the current pair\n",
    "            column_pair = (y_data.columns[i], y_data.columns[j])\n",
    "            \n",
    "            # Calculate XiCor correlation\n",
    "            xi = xicor(x, y)\n",
    "            correlation_results.append({\n",
    "                'Dataset': name,\n",
    "                'Correlation_Type': 'XiCor',\n",
    "                'Column_Pair': column_pair,\n",
    "                'Value': xi\n",
    "            })\n",
    "            \n",
    "            # Calculate Pearson correlation\n",
    "            pearson_corr, _ = stats.pearsonr(x, y)\n",
    "            correlation_results.append({\n",
    "                'Dataset': name,\n",
    "                'Correlation_Type': 'Pearson',\n",
    "                'Column_Pair': column_pair,\n",
    "                'Value': pearson_corr\n",
    "            })\n",
    "            \n",
    "            # Calculate Spearman correlation\n",
    "            spearman_corr, _ = stats.spearmanr(x, y)\n",
    "            correlation_results.append({\n",
    "                'Dataset': name,\n",
    "                'Correlation_Type': 'Spearman',\n",
    "                'Column_Pair': column_pair,\n",
    "                'Value': spearman_corr\n",
    "            })\n",
    "\n",
    "# Convert the results to a Pandas DataFrame for better organization and further analysis\n",
    "correlation_df = pd.DataFrame(correlation_results)\n",
    "correlation_df.to_csv('correlation_results.csv', index=False)"
   ]
  },
  {
   "cell_type": "code",
   "execution_count": null,
   "id": "7e794d88-2a7a-4f3c-b3a0-1b88c3f1e85e",
   "metadata": {},
   "outputs": [],
   "source": [
    "correlation_df"
   ]
  }
 ],
 "metadata": {
  "kernelspec": {
   "display_name": "Python 3 (ipykernel)",
   "language": "python",
   "name": "python3"
  },
  "language_info": {
   "codemirror_mode": {
    "name": "ipython",
    "version": 3
   },
   "file_extension": ".py",
   "mimetype": "text/x-python",
   "name": "python",
   "nbconvert_exporter": "python",
   "pygments_lexer": "ipython3",
   "version": "3.8.19"
  }
 },
 "nbformat": 4,
 "nbformat_minor": 5
}

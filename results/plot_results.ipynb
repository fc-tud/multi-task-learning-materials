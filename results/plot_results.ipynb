{
 "cells": [
  {
   "cell_type": "code",
   "execution_count": null,
   "id": "9e75e76e",
   "metadata": {},
   "outputs": [],
   "source": [
    "import sys, importlib\n",
    "import os\n",
    "import pandas as pd\n",
    "import numpy as np\n",
    "import plotly.graph_objects as go\n",
    "import plotly.io as pio\n",
    "pio.kaleido.scope.mathjax = None\n",
    "import plot\n",
    "from plot import (get_results_df,  group_results, get_best_results, \n",
    "                  calc_relative_lit_scores, calc_relative_stl_scores, calc_relative_xgboost_scores, \n",
    "                  plot_tasks, plot_summarize, plot_box, plot_box_binned, plot_scatter,\n",
    "                  dict_mode, dict_mtl_mode, dict_resources, name_mapping,\n",
    "                  merge_with_correlations, get_task_span, fit_power_law)\n",
    "import cd_plot\n",
    "from cd_plot import draw_cd_diagram"
   ]
  },
  {
   "cell_type": "code",
   "execution_count": null,
   "id": "c9a0c82d-c6c2-40eb-a58b-b779e83c5753",
   "metadata": {},
   "outputs": [],
   "source": [
    "PLOT_DIR = 'plots'"
   ]
  },
  {
   "cell_type": "code",
   "execution_count": null,
   "id": "036421fc",
   "metadata": {
    "pycharm": {
     "name": "#%%\n"
    }
   },
   "outputs": [],
   "source": [
    "if not os.path.exists(PLOT_DIR):\n",
    "    os.makedirs(PLOT_DIR)\n",
    "\n",
    "# load results\n",
    "results = pd.read_pickle('results.pkl')\n",
    "grouped = group_results(results, 'mode', add_const_num_cols=['best-of-mode', 'best-of-mtl_mode'])\n",
    "\n",
    "#load correlation df\n",
    "df_corr = pd.read_csv('correlation_results.csv')"
   ]
  },
  {
   "cell_type": "code",
   "execution_count": null,
   "id": "3faa4594",
   "metadata": {
    "pycharm": {
     "name": "#%%\n"
    }
   },
   "outputs": [],
   "source": [
    "print('size results', results.shape)\n",
    "print('size grouped', grouped.shape)"
   ]
  },
  {
   "cell_type": "markdown",
   "id": "3371c685",
   "metadata": {
    "pycharm": {
     "name": "#%% md\n"
    }
   },
   "source": [
    "### Check for missing results"
   ]
  },
  {
   "cell_type": "code",
   "execution_count": null,
   "id": "90b308e8",
   "metadata": {
    "pycharm": {
     "name": "#%%\n"
    }
   },
   "outputs": [],
   "source": [
    "# Check for missing szenarios\n",
    "GROUPING = ['dataset', 'Task', 'resources', 'framework']\n",
    "df = grouped.groupby(by=GROUPING, as_index=False).count()\n",
    "df_test = df.loc[~((df['mode']==42) | ((df['mode']==30) & (df['dataset']=='xiong')))]\n",
    "df_test = df_test.loc[~((df_test['mode']==7) & (df_test['framework']=='FFNN_input'))]\n",
    "df_test = df_test.loc[~((df_test['mode']==5) & (df_test['framework']=='FFNN_input') & (df['dataset']=='xiong'))]\n",
    "df_test = df_test.loc[~((df_test['mode'].isin([3,4])) & (df_test['framework']=='FFNN_stl'))]\n",
    "df_test = df_test.loc[~((df_test['mode']==1) & (df_test['framework'].isin(['FFNN_mtl', 'MMOE', 'MTLNET'])))]\n",
    "df_test"
   ]
  },
  {
   "cell_type": "markdown",
   "id": "acca21d2",
   "metadata": {},
   "source": [
    "## Plots for MTL-Paper"
   ]
  },
  {
   "cell_type": "markdown",
   "id": "5add7ae3-d0ce-464b-a971-2eec807111c7",
   "metadata": {},
   "source": [
    "## Fig: 6: Example Hu sparse-task 0.25"
   ]
  },
  {
   "cell_type": "code",
   "execution_count": null,
   "id": "0519d650-8714-4bd4-98f4-10353fbcc1ba",
   "metadata": {},
   "outputs": [],
   "source": [
    "TARGET = 'relative_error'\n",
    "GROUP = 'mtl_mode' # mode, mtl_mode\n",
    "#TASK_LIST = results['dataset-task-key'].unique()\n",
    "TASK_LIST = ['hu_elongation', 'hu_yield-strength', 'hu_tensile-strength']\n",
    "QUERY_PLOT = f\"`best-of-{GROUP}` == 1 and `sparse_mode` == 'sparse-task' and sparse_amount == '0.25' and resources in ['15_min', '200_trails'] and mtl_mode in ['MTL-RC', 'STL']\"\n",
    "#QUERY_PLOT = f\"framework == 'AutoSklearn' and mode in ['MTL-predict-all','STL'] and `sparse_mode` == 'sparse-task' and sparse_amount == '0.25' and resources in ['15_min', '200_trails'] and mtl_mode in ['MTL-RC', 'STL']\"\n",
    "df_plot = results.query(QUERY_PLOT)\n",
    "\n",
    "fig = plot_tasks(df_plot,  tasks=TASK_LIST, target=TARGET, group=GROUP, plot_dict=eval(f'dict_{GROUP}'))\n",
    " \n",
    "QUERY_PLOT = f\"`dataset-task-key` in {TASK_LIST} and `sparse_mode` == 'sparse-task' and sparse_amount == '0.25' and mtl_mode == 'STL' and framework == 'XGBoost'\"\n",
    "df_add = results.query(QUERY_PLOT)\n",
    "\n",
    "fig.add_trace(go.Box(\n",
    "            y=df_add['dataset-task-key'],\n",
    "            x=df_add[TARGET],\n",
    "            name='STL - XGB',\n",
    "            marker_color='#555555',\n",
    "            # fillcolor=framework_dict['colour'],\n",
    "            # line_color='black',\n",
    "            line_width=2,\n",
    "            orientation = 'h'\n",
    "            #boxpoints='all'\n",
    "        ))\n",
    "\n",
    "desired_order = ['STL - XGB', 'STL', 'MTL-RC'] \n",
    "ordered_traces = [trace for group_name in desired_order for trace in fig.data if trace.name == group_name]\n",
    "fig.data = ordered_traces\n",
    "fig.update_layout(width=1100, height=400)\n",
    "fig.update_layout(xaxis_range=[0.029, 0.101])\n",
    "fig.write_image(os.path.join(PLOT_DIR, f'{TASK_LIST[0]}_sparse-task_0.25.svg'))\n",
    "fig.show()"
   ]
  },
  {
   "cell_type": "markdown",
   "id": "c9000c7a-2817-43af-b82b-a5e638fb08be",
   "metadata": {},
   "source": [
    "## Fig: 7, 8: summarized Results - combined mode and mtl-mode"
   ]
  },
  {
   "cell_type": "code",
   "execution_count": null,
   "id": "ecb76ad7-1481-4fab-a039-2e11cfb8bc69",
   "metadata": {},
   "outputs": [],
   "source": [
    "TARGET = 'relative_rmse_stl_median'\n",
    "GROUP = 'mode' # mode, mtl_mode\n",
    "PLOT = 'full' # Fig 6: 'full'; Fig 7: 'sparse'\n",
    "\n",
    "if PLOT=='sparse':\n",
    "    best_results = f\"`best-of-{GROUP}` == 1 and resources == '15_min' and `sparse_mode` in ['sparse-all', 'sparse-task']  and mtl_mode in ['MTL-RC'] \"\n",
    "if PLOT=='full':\n",
    "    best_results = f\"`best-of-{GROUP}` == 1 and resources == '15_min' and `sparse_mode` == 'full' and mtl_mode in ['MTL-RC', 'MTL-NN'] \"\n",
    "\n",
    "best_of_results = results.query(best_results)\n",
    "df_plot = group_results(best_of_results, GROUP, add_const_num_cols=['best-of-mode', 'best-of-mtl_mode'])\n",
    "df_plot = df_plot.sort_values(by=['sparse_mode', 'sparse_amount', 'size', 'framework'], ascending=[True, False, False, True])\n",
    "\n",
    "fig = plot_summarize(df_plot, group=GROUP, target=TARGET, plot_dict=eval(f'dict_{GROUP}'), save_fig=None)\n",
    "\n",
    "\n",
    "# apend mtl-mode MTL-RC and MTL-NN\n",
    "GROUP_ADD = 'mtl_mode'\n",
    "if PLOT=='sparse':\n",
    "    best_results = f\"`best-of-{GROUP_ADD}` == 1 and resources == '15_min' and `sparse_mode` in ['sparse-all', 'sparse-task']  and mtl_mode in ['MTL-RC'] \"\n",
    "if PLOT=='full':\n",
    "    best_results = f\"`best-of-{GROUP_ADD}` == 1 and resources == '15_min' and `sparse_mode` == 'full' and mtl_mode in ['MTL-RC', 'MTL-NN'] \"\n",
    "best_of_results = results.query(best_results)\n",
    "df_add = group_results(best_of_results, GROUP, add_const_num_cols=['best-of-mode', 'best-of-mtl_mode'])\n",
    "df_add = df_add.sort_values(by=['sparse_mode', 'sparse_amount', 'size', 'framework'], ascending=[True, False, False, True])\n",
    "df_add['sparse_key'] = df_add['sparse_mode'] + df_add['sparse_amount'].astype(str)\n",
    "\n",
    "for group_, group_specs in eval(f'dict_{GROUP_ADD}').items():\n",
    "    fig.add_trace(go.Box(\n",
    "                y=df_add[TARGET].loc[df_add[GROUP_ADD] == group_],\n",
    "                x=df_add['sparse_key'].loc[df_add[GROUP_ADD] == group_],\n",
    "                name=group_,\n",
    "                marker_color=group_specs['colour'],\n",
    "                # fillcolor=framework_dict['colour'],\n",
    "                # line_color='black',\n",
    "                line_width=2,\n",
    "                #boxpoints='all'\n",
    "            ))\n",
    "\n",
    "fig.update_traces(whiskerwidth=1, selector=dict(type='box'))\n",
    "fig.update_traces(quartilemethod=\"exclusive\") \n",
    "\n",
    "\n",
    "# Reihenfolge anpassen\n",
    "desired_order = ['MTL-predict-other', 'MTL-predict-all', \n",
    "                 'MTL-predict-other-unc', 'MTL-predict-all-unc', 'MTL-true-other', 'MTL-RC',\n",
    "                 'FFNN_mtl', 'FFNN_input', 'MTLNET', 'MMOE', 'MTL-NN']\n",
    "\n",
    "# Reorder traces based on the desired order\n",
    "ordered_traces = [trace for group_name in desired_order for trace in fig.data if trace.name == group_name]\n",
    "\n",
    "# Update the fig data with the ordered traces\n",
    "fig.data = ordered_traces\n",
    "\n",
    "\n",
    "# Rename the traces according to the name mapping\n",
    "for trace in ordered_traces:\n",
    "    if trace.name in name_mapping:\n",
    "        trace.name = name_mapping[trace.name]\n",
    "\n",
    "if PLOT=='full':\n",
    "    fig.update_layout(width=1200, height=500)\n",
    "    fig.write_image(os.path.join(PLOT_DIR, f'plot_summarize_{GROUP}_full_combined.svg'))\n",
    "if PLOT=='sparse':\n",
    "    fig.update_layout(width=1200, height=625)\n",
    "    fig.write_image(os.path.join(PLOT_DIR, f'plot_summarize_{GROUP}_sparse_combined.svg'))\n",
    "fig.show()"
   ]
  },
  {
   "cell_type": "markdown",
   "id": "51d1954b-900d-4de3-8efb-9a05d126e649",
   "metadata": {},
   "source": [
    "## Fig 9: CD-Plots"
   ]
  },
  {
   "cell_type": "code",
   "execution_count": null,
   "id": "288f3cc6",
   "metadata": {},
   "outputs": [],
   "source": [
    "importlib.reload(sys.modules['cd_plot'])\n",
    "import cd_plot\n",
    "from cd_plot import draw_cd_diagram\n",
    "\n",
    "TARGET = 'rmse'\n",
    "GROUP = 'mode' # mode, mtl_mode\n",
    "\n",
    "sparse_mode = 'sparse-task' # Fig 8a: 'full'; Fig 8b: 'sparse-all; Fig 8c: 'sparse-task''\n",
    "sparse_amount = 'all'\n",
    "\n",
    "\n",
    "QUERY_PLOT = f\"`best-of-{GROUP}` == 1 and `sparse_mode` == '{sparse_mode}' and resources in ['15_min'] and `mode` in ['STL', 'MTL-true-other', 'MTL-predict-other', 'MTL-predict-all']\"\n",
    "#QUERY_PLOT = f\"`best-of-{GROUP}` == 1 and `sparse_mode` == '{sparse_mode}' and resources in ['15_min'] and `mtl_mode` in ['STL', 'MTL-RC']\"\n",
    "df_plot = results.query(QUERY_PLOT)\n",
    "print(df_plot.columns)\n",
    "df_perf = df_plot[[GROUP, 'dataset-task-key', 'split', 'sparse_mode', 'sparse_amount', TARGET]].copy()\n",
    "df_perf['task_key'] = df_perf['dataset-task-key'] + '_' + df_perf['split'].astype(str) + '_' + df_perf['sparse_mode'] + '_' + df_perf['sparse_amount'].astype(str)\n",
    "\n",
    "df_perf = df_perf.rename(columns={GROUP: 'model_name',\n",
    "                                  TARGET: 'metric'})\n",
    "name_mapping = {\n",
    "    'MTL-true-other': 'true-other',\n",
    "    'MTL-predict-other': 'pred-other',\n",
    "    'MTL-predict-all': 'pred-all',\n",
    "    'MTL-predict-other-unc': 'pred-other-unc',\n",
    "    'MTL-predict-all-unc': 'pred-all-unc',\n",
    "    'MTL-RC': 'MTL-RC-combined',\n",
    "    'MTL-NN': 'MTL-NN-combined'\n",
    "}\n",
    "df_perf['model_name'] = df_perf['model_name'].replace(name_mapping)\n",
    "draw_cd_diagram(df_perf=df_perf, title='RMSE', labels=True, smaller_is_better=True, save_fig=os.path.join(PLOT_DIR, f'cd_plot_{GROUP}_{sparse_mode}_{sparse_amount}.pdf'))"
   ]
  },
  {
   "cell_type": "code",
   "execution_count": null,
   "id": "100f6f0b-9108-4f0e-bc31-74abadd37752",
   "metadata": {},
   "outputs": [],
   "source": [
    "GROUP = 'mtl_mode'\n",
    "\n",
    "best_results = f\"`best-of-mtl_mode` == 1 and resources == '15_min' and mtl_mode in ['STL', 'MTL-RC', 'MTL-NN']\"\n",
    "df_plot = results.query(best_results).copy()\n",
    "df_plot['shape-ratio'] = df_plot['shape-ratio'] * pd.to_numeric(df_plot['sparse_amount'])\n",
    "GROUPING = ['shape-ratio', 'mtl_mode', 'resources']\n",
    "df_plot = df_plot.groupby(by=GROUPING, as_index=False).median(numeric_only=True)\n",
    "df_plot = df_plot[~df_plot['relative_error'].isna()]\n",
    "\n",
    "\n",
    "fit_results = fit_power_law(df_plot, 'relative_error', GROUP)"
   ]
  },
  {
   "cell_type": "markdown",
   "id": "a9791f04-3f0b-4d2e-a0c7-bc3a1f1dd56b",
   "metadata": {},
   "source": [
    "## Fig 10: scaled error over Data-Shape"
   ]
  },
  {
   "cell_type": "code",
   "execution_count": null,
   "id": "b362bd98-de16-4499-b932-8f4e9a23080e",
   "metadata": {
    "pycharm": {
     "name": "#%%\n"
    }
   },
   "outputs": [],
   "source": [
    "SPARSE_MODE = 'sparse-all' # Fig 11 is combination of 'sparse-all' and 'sparse-task'\n",
    "BINS = [0, 10, 20, 30, 100]\n",
    "GROUP = 'mtl_mode'\n",
    "\n",
    "color_dict = {'STL':  {'colour':'#57cca6'},\n",
    "              'MTL-RC':{'colour':'#918DC3'},\n",
    "              'MTL-NN':{'colour':'#00305e'}}\n",
    "\n",
    "best_results = f\"`best-of-mtl_mode` == 1 and `sparse_mode` =='{SPARSE_MODE}' and resources == '15_min' and mtl_mode in ['STL', 'MTL-RC', 'MTL-NN']\"\n",
    "df_plot = results.query(best_results).copy()\n",
    "df_plot['shape-ratio'] = df_plot['shape-ratio'] * pd.to_numeric(df_plot['sparse_amount'])\n",
    "GROUPING = ['shape-ratio', 'mtl_mode', 'resources']\n",
    "df_plot = df_plot.groupby(by=GROUPING, as_index=False).median(numeric_only=True)\n",
    "\n",
    "fig = plot_box_binned(df_plot, 'relative_error', 'shape-ratio', GROUP, custom_bins=BINS, color_dict=color_dict)\n",
    "fig.update_layout(width=800, height=350)\n",
    "fig.update_layout(yaxis = dict(tick0 = 0.01, dtick = 0.01))\n",
    "fig.update_layout(yaxis_range=[0.0075,0.0975])\n",
    "fig.write_image(os.path.join(PLOT_DIR, f\"relative_error_over_datashape_binned_{SPARSE_MODE}.svg\"))\n",
    "fig.show()"
   ]
  },
  {
   "cell_type": "markdown",
   "id": "40acc96f-96b3-485b-903e-b7c010c08d18",
   "metadata": {},
   "source": [
    "## Fig 11a: Plot MTL Performance over STL Performance - same task"
   ]
  },
  {
   "cell_type": "code",
   "execution_count": null,
   "id": "51c8624e-0f14-4161-810a-cc048c54879d",
   "metadata": {},
   "outputs": [],
   "source": [
    "GROUP = 'mtl_mode' # mode, mtl_mode\n",
    "TARGET = 'relative_mape_stl_median'\n",
    "\n",
    "best_results = f\"`best-of-{GROUP}` == 1 and `sparse_mode` in ['sparse-task', 'sparse-all'] and resources in ['15_min'] and mtl_mode in ['MTL-RC', 'STL']\"\n",
    "best_of_results = results.query(best_results)\n",
    "df_plot = group_results(best_of_results, GROUP, add_const_num_cols=['best-of-mode', 'best-of-mtl_mode'])\n",
    "\n",
    "df_list = []\n",
    "for group, group_df in df_plot.groupby(['dataset-task-key', 'sparse_mode', 'sparse_amount', 'resources']):\n",
    "    get_best_stl = f\"`mode` == 'STL'  and `best-of-mode` == 1\"\n",
    "    group_df[f'stl_mape'] = group_df.query(get_best_stl)['mape_median'].item()\n",
    "    df_list.append(group_df)\n",
    "\n",
    "df_plot = pd.concat(df_list)\n",
    "df_plot = merge_with_correlations(df_plot, df_corr, aggregation_method='mean')\n",
    "df_plot_same_task = df_plot.copy()\n",
    "\n",
    "fig = plot_scatter(df_plot, TARGET, 'stl_mape', GROUP, z_color=df_plot['Spearman_aggregated'])\n",
    "fig.update_layout(xaxis_range=[0,0.51])\n",
    "fig.update_layout(width=800, height=480)\n",
    "fig.update_traces(marker=dict(size=10))\n",
    "fig.write_image(os.path.join(PLOT_DIR, f'plot_mtl_perfom_over_stl_perform.svg'))\n",
    "fig.show()"
   ]
  },
  {
   "cell_type": "markdown",
   "id": "626e6d37-5d6b-4cf0-8a69-c072c8cb075e",
   "metadata": {},
   "source": [
    "## Fig 11b: Plot MTL Performance over STL Performance - other Task"
   ]
  },
  {
   "cell_type": "code",
   "execution_count": null,
   "id": "1234040c-3133-49ee-a6fa-ff138c79d782",
   "metadata": {},
   "outputs": [],
   "source": [
    "GROUP = 'mtl_mode' # mode, mtl_mode\n",
    "TARGET = 'relative_mape_stl_median'\n",
    "\n",
    "best_results = f\"`best-of-{GROUP}` == 1 and `sparse_mode` in ['full', 'sparse-task', 'sparse-all'] and resources in ['15_min'] and mtl_mode in ['MTL-RC', 'STL'] \"\n",
    "best_of_results = results.query(best_results)\n",
    "df_plot = group_results(best_of_results, GROUP, add_const_num_cols=['best-of-mode', 'best-of-mtl_mode'])\n",
    "\n",
    "df_list = []\n",
    "for group, group_df in df_plot.groupby(['dataset', 'sparse_mode', 'sparse_amount', 'resources']):\n",
    "    for task in group_df.Task.unique():\n",
    "        get_best_stl = f\"`mode` == 'STL' and `best-of-mode` == 1 and dataset =='{group[0]}' and Task != '{task}' and resources in ['15_min']\"\n",
    "        if group[1]=='full':\n",
    "            continue\n",
    "        elif group[1]=='sparse-task':\n",
    "            # The full results must be queried here for sparse-task\n",
    "            sparse_mode_specific = f\"sparse_mode =='full'\"\n",
    "        elif group[1]=='sparse-all':\n",
    "            # The following must be queried from the sparse-all results for sparse-all\n",
    "            sparse_mode_specific = f\"sparse_mode =='sparse-all'\"\n",
    "        get_best_stl = get_best_stl + ' and ' + sparse_mode_specific\n",
    "        stl_error = df_plot.query(get_best_stl)['mape_median'].max()\n",
    "        task_df = group_df.loc[group_df['Task']==task].copy()\n",
    "        task_df[f'stl_mape_other'] = stl_error\n",
    "        df_list.append(task_df)\n",
    "\n",
    "\n",
    "df_plot = pd.concat(df_list)\n",
    "df_plot = merge_with_correlations(df_plot, df_corr, aggregation_method='mean')\n",
    "\n",
    "\n",
    "try:\n",
    "    df_plot_same_task\n",
    "except NameError:\n",
    "    print(\"`df_plot_same_task` from cell above needed!\")\n",
    "    \n",
    "df_plot = df_plot.merge(df_plot_same_task[['dataset-task-key', 'sparse_mode', 'sparse_amount', 'stl_mape']], \n",
    "                        on=['dataset-task-key', 'sparse_mode', 'sparse_amount'], \n",
    "                        how='left')\n",
    "\n",
    "fig = plot_scatter(df_plot, TARGET, 'stl_mape_other', GROUP, z_color=df_plot['stl_mape'])\n",
    "fig.update_layout(xaxis_range=[0,0.51])\n",
    "fig.update_layout(width=800, height=480)\n",
    "fig.update_traces(marker=dict(size=10))\n",
    "fig.write_image(os.path.join(PLOT_DIR, f'plot_mtl_perfom_over_stl-other_perform_.svg'))\n",
    "fig.show()\n"
   ]
  },
  {
   "cell_type": "markdown",
   "id": "2c57c05d-9046-433f-bfd0-bb3b6a8f438f",
   "metadata": {},
   "source": [
    "## Fig 11: Compare to XGBoost Performance"
   ]
  },
  {
   "cell_type": "code",
   "execution_count": null,
   "id": "54be0e02-3051-48fb-9f6f-fd8771388449",
   "metadata": {},
   "outputs": [],
   "source": [
    "TARGET = 'relative_rmse_xgboost_median'\n",
    "GROUP = 'mtl_mode' # mode, mtl_mode\n",
    "\n",
    "results = calc_relative_xgboost_scores(results)\n",
    "\n",
    "best_results = f\"`best-of-{GROUP}` == 1 and mtl_mode in ['MTL-RC', 'STL']\"\n",
    "best_of_results = results.query(best_results)\n",
    "df_plot = group_results(best_of_results, GROUP, add_const_num_cols=['best-of-mode', 'best-of-mtl_mode'])\n",
    "\n",
    "\n",
    "fig = plot_box(df_plot, y_axis = GROUP, x_axis=TARGET, group='resources', target=TARGET, plot_dict=f'dict_resources')\n",
    "fig.update_layout(width=1100, height=400)\n",
    "fig.update_traces(orientation='h') \n",
    "fig.add_vline(x=1, line_color=\"black\")\n",
    "fig.update_layout(xaxis=dict(dtick=0.25))\n",
    "fig.update_layout(xaxis_range=[0.7, 3.05])\n",
    "fig.write_image(os.path.join(PLOT_DIR, f'plot_compare_time_to_xgboost.svg'))\n",
    "fig.show()"
   ]
  },
  {
   "cell_type": "markdown",
   "id": "80060c28-52d0-4deb-8291-515d7fe62a13",
   "metadata": {},
   "source": [
    "# Additional plots"
   ]
  },
  {
   "cell_type": "markdown",
   "id": "8b5dba24-2baa-4e9d-8627-6f532d803d66",
   "metadata": {},
   "source": [
    "## Fig 10: R2 Values for Data-Shape and Data-Size"
   ]
  },
  {
   "cell_type": "code",
   "execution_count": null,
   "id": "eb653737-a562-40a8-9cf4-398db83e4f4e",
   "metadata": {},
   "outputs": [],
   "source": [
    "GROUP = 'mtl_mode'\n",
    "\n",
    "best_results = f\"`best-of-mtl_mode` == 1 and resources == '15_min' and mtl_mode in ['STL', 'MTL-RC', 'MTL-NN']\"\n",
    "df_plot = results.query(best_results).copy()\n",
    "df_plot['shape-ratio'] = df_plot['shape-ratio'] * pd.to_numeric(df_plot['sparse_amount'])\n",
    "GROUPING = ['shape-ratio', 'mtl_mode', 'resources']\n",
    "df_plot = df_plot.groupby(by=GROUPING, as_index=False).median(numeric_only=True)\n",
    "df_plot = df_plot[~df_plot['relative_error'].isna()]\n",
    "\n",
    "\n",
    "fit_results = fit_power_law(df_plot, 'relative_error', GROUP)"
   ]
  },
  {
   "cell_type": "markdown",
   "id": "1d2b6ad7",
   "metadata": {},
   "source": [
    "## Task specific plots"
   ]
  },
  {
   "cell_type": "code",
   "execution_count": null,
   "id": "f0634695",
   "metadata": {
    "pycharm": {
     "name": "#%%\n"
    }
   },
   "outputs": [],
   "source": [
    "TARGET = 'relative_score_stl'\n",
    "GROUP = 'mtl_mode' # mode, mtl_mode\n",
    "TASK_LIST = results['dataset-task-key'].unique()\n",
    "QUERY_PLOT = f\"`best-of-{GROUP}` == 1 and `sparse_mode` == 'sparse-all' and sparse_amount == '0.5' and resources in ['15_min', '200_trails']\"\n",
    "df_plot = results.query(QUERY_PLOT)\n",
    "\n",
    "dict_task_mtl_mode = {'STL':  {'colour':'#57cca6', 'fill-colour':'#d6fff2'},\n",
    "                      'MTL-RC':{'colour':'#00305e', 'fill-colour':'#b4cade'},\n",
    "                      'MTL-NN':{'colour':'#403b7a', 'fill-colour':'#e3c6f7'}\n",
    "                     }\n",
    "\n",
    "fig = plot_tasks(df_plot, target=TARGET, group=GROUP, plot_dict=dict_task_mtl_mode)\n",
    "fig.update_layout(width=1100, height=1100)\n",
    "fig.show()"
   ]
  }
 ],
 "metadata": {
  "kernelspec": {
   "display_name": "Python 3 (ipykernel)",
   "language": "python",
   "name": "python3"
  },
  "language_info": {
   "codemirror_mode": {
    "name": "ipython",
    "version": 3
   },
   "file_extension": ".py",
   "mimetype": "text/x-python",
   "name": "python",
   "nbconvert_exporter": "python",
   "pygments_lexer": "ipython3",
   "version": "3.8.19"
  }
 },
 "nbformat": 4,
 "nbformat_minor": 5
}
